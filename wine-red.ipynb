{
 "cells": [
  {
   "cell_type": "code",
   "execution_count": null,
   "metadata": {},
   "outputs": [],
   "source": [
    "import pandas as pd\n",
    "import numpy as np\n",
    "import seaborn as sns\n",
    "import matplotlib.pyplot as plt\n",
    "import sklearn\n",
    "from sklearn.linear_model import LogisticRegression\n",
    "from sklearn.naive_bayes import GaussianNB\n",
    "from sklearn.tree import DecisionTreeClassifier\n",
    "from sklearn.svm import SVC\n",
    "from sklearn.neighbors import KNeighborsClassifier\n",
    "from sklearn.ensemble import RandomForestClassifier\n",
    "from sklearn.decomposition import PCA\n",
    "from sklearn.preprocessing import StandardScaler\n",
    "from sklearn.model_selection import train_test_split\n",
    "from sklearn.metrics import accuracy_score,confusion_matrix,classification_report\n",
    "from sklearn.model_selection import cross_val_score\n",
    "from sklearn.preprocessing import LabelEncoder\n",
    "from sklearn.externals import joblib\n",
    "import warnings\n",
    "warnings.filterwarnings('ignore')"
   ]
  },
  {
   "cell_type": "code",
   "execution_count": null,
   "metadata": {},
   "outputs": [],
   "source": [
    "data=pd.read_csv('C:/Users/DC/Downloads/winequality-red.csv',sep=';')\n",
    "data"
   ]
  },
  {
   "cell_type": "code",
   "execution_count": null,
   "metadata": {},
   "outputs": [],
   "source": [
    "data.shape"
   ]
  },
  {
   "cell_type": "code",
   "execution_count": null,
   "metadata": {},
   "outputs": [],
   "source": [
    "data.describe()"
   ]
  },
  {
   "cell_type": "code",
   "execution_count": null,
   "metadata": {},
   "outputs": [],
   "source": [
    "data.dtypes\n"
   ]
  },
  {
   "cell_type": "code",
   "execution_count": null,
   "metadata": {},
   "outputs": [],
   "source": [
    "df=pd.DataFrame(data)"
   ]
  },
  {
   "cell_type": "code",
   "execution_count": null,
   "metadata": {},
   "outputs": [],
   "source": [
    "df.isnull().sum()"
   ]
  },
  {
   "cell_type": "code",
   "execution_count": null,
   "metadata": {},
   "outputs": [],
   "source": [
    "for i in df.columns:\n",
    "    plt.figure()\n",
    "    plt.boxplot(df[i],)"
   ]
  },
  {
   "cell_type": "code",
   "execution_count": null,
   "metadata": {},
   "outputs": [],
   "source": [
    "for i in df.columns:\n",
    "    plt.figure()\n",
    "    plt.hist(df[i],)"
   ]
  },
  {
   "cell_type": "code",
   "execution_count": null,
   "metadata": {},
   "outputs": [],
   "source": [
    "for i in df.columns:\n",
    "    plt.figure()\n",
    "    sns.barplot('quality',i,data=df)"
   ]
  },
  {
   "cell_type": "code",
   "execution_count": null,
   "metadata": {},
   "outputs": [],
   "source": [
    "df.corr()"
   ]
  },
  {
   "cell_type": "code",
   "execution_count": null,
   "metadata": {},
   "outputs": [],
   "source": [
    "plt.figure()\n",
    "sns.heatmap(df.corr(),annot=True)"
   ]
  },
  {
   "cell_type": "code",
   "execution_count": null,
   "metadata": {},
   "outputs": [],
   "source": [
    "from scipy.stats import zscore\n",
    "threhold=3\n",
    "z=np.abs(zscore(df))\n",
    "z"
   ]
  },
  {
   "cell_type": "code",
   "execution_count": null,
   "metadata": {},
   "outputs": [],
   "source": [
    "print(np.where(z>3))"
   ]
  },
  {
   "cell_type": "code",
   "execution_count": null,
   "metadata": {},
   "outputs": [],
   "source": [
    "df_new=df[(z<3).all(axis=1)]"
   ]
  },
  {
   "cell_type": "code",
   "execution_count": null,
   "metadata": {},
   "outputs": [],
   "source": [
    "df_new"
   ]
  },
  {
   "cell_type": "code",
   "execution_count": null,
   "metadata": {},
   "outputs": [],
   "source": [
    "for i in df.columns:\n",
    "    plt.figure()\n",
    "    plt.boxplot(df_new[i],)"
   ]
  },
  {
   "cell_type": "code",
   "execution_count": null,
   "metadata": {},
   "outputs": [],
   "source": [
    "df.skew()"
   ]
  },
  {
   "cell_type": "code",
   "execution_count": null,
   "metadata": {},
   "outputs": [],
   "source": [
    "for col in df.columns:\n",
    "    if df.skew().loc[col]>0.55:\n",
    "        df[col]=np.log(df[col])"
   ]
  },
  {
   "cell_type": "code",
   "execution_count": null,
   "metadata": {},
   "outputs": [],
   "source": [
    "df_new.skew()"
   ]
  },
  {
   "cell_type": "code",
   "execution_count": null,
   "metadata": {},
   "outputs": [],
   "source": [
    "for col in df_new.columns:\n",
    "    if df_new.skew().loc[col]>0.55:\n",
    "        df_new[col]=np.log(df_new[col])"
   ]
  },
  {
   "cell_type": "code",
   "execution_count": null,
   "metadata": {},
   "outputs": [],
   "source": [
    "x1=df.iloc[:,0:11]\n",
    "y1=df.iloc[:,11]\n",
    "y1=y1.values.reshape(-1,1)"
   ]
  },
  {
   "cell_type": "code",
   "execution_count": null,
   "metadata": {},
   "outputs": [],
   "source": [
    "x=df_new.iloc[:,0:11]\n",
    "y=df_new.iloc[:,11]\n",
    "y=y.values.reshape(-1,1)"
   ]
  },
  {
   "cell_type": "code",
   "execution_count": null,
   "metadata": {},
   "outputs": [],
   "source": [
    "se=StandardScaler()\n",
    "x_s=se.fit_transform(x)\n",
    "x=pd.DataFrame(x_s,columns=x.columns)"
   ]
  },
  {
   "cell_type": "code",
   "execution_count": null,
   "metadata": {},
   "outputs": [],
   "source": [
    "x1_s=se.fit_transform(x1)\n",
    "x1=pd.DataFrame(x1_s,columns=x1.columns)"
   ]
  },
  {
   "cell_type": "code",
   "execution_count": null,
   "metadata": {},
   "outputs": [],
   "source": [
    "def max_score(model,a,b):\n",
    "    max_score=0\n",
    "    for r_state in range(42,100):\n",
    "        xtrain,xtest,ytrain,ytest=train_test_split(a,b,random_state=r_state,test_size=0.20)\n",
    "        model.fit(xtrain,ytrain)\n",
    "        ypred=model.predict(xtest)\n",
    "        accuracy=accuracy_score(ytest,ypred)\n",
    "        print('accuracy is',accuracy,'with r state',r_state)\n",
    "        if accuracy>max_score:\n",
    "            max_score=accuracy\n",
    "            final_r_state=r_state\n",
    "            print(max_score,'is max accuracy against r_state',r_state)\n",
    "            print(cross_val_score(model,x,y,cv=10,scoring='accuracy').mean())"
   ]
  },
  {
   "cell_type": "code",
   "execution_count": null,
   "metadata": {},
   "outputs": [],
   "source": [
    "from sklearn.model_selection import GridSearchCV"
   ]
  },
  {
   "cell_type": "code",
   "execution_count": null,
   "metadata": {},
   "outputs": [],
   "source": [
    "algo=KNeighborsClassifier()\n",
    "para={'n_neighbors':[3,4,5,6,7,8,9,10]}\n",
    "grid=GridSearchCV(estimator=algo,param_grid=para)\n",
    "grid.fit(x,y)\n",
    "\n",
    "print(grid.best_params_)"
   ]
  },
  {
   "cell_type": "code",
   "execution_count": null,
   "metadata": {},
   "outputs": [],
   "source": [
    "algo=SVC()\n",
    "para={'kernel':['rbf','poly','linear'],'C':[1,10]}\n",
    "grid=GridSearchCV(estimator=algo,param_grid=para)\n",
    "grid.fit(x,y)\n",
    "\n",
    "print(grid.best_params_)"
   ]
  },
  {
   "cell_type": "code",
   "execution_count": null,
   "metadata": {},
   "outputs": [],
   "source": [
    "algo=DecisionTreeClassifier()\n",
    "para={'criterion':['gini','entropy']}\n",
    "grid=GridSearchCV(estimator=algo,param_grid=para)\n",
    "grid.fit(x,y)\n",
    "\n",
    "print(grid.best_params_)"
   ]
  },
  {
   "cell_type": "code",
   "execution_count": null,
   "metadata": {},
   "outputs": [],
   "source": [
    "algo=RandomForestClassifier()\n",
    "para={'n_estimators':[50,100,150,200,500,1000],}\n",
    "grid=GridSearchCV(estimator=algo,param_grid=para)\n",
    "grid.fit(x,y)\n",
    "\n",
    "print(grid.best_params_)"
   ]
  },
  {
   "cell_type": "code",
   "execution_count": null,
   "metadata": {},
   "outputs": [],
   "source": [
    "dtc=DecisionTreeClassifier(criterion='gini')\n",
    "rf=RandomForestClassifier(n_estimators=150)\n",
    "svc=SVC(kernel='rbf',C=1)\n",
    "knc=KNeighborsClassifier(n_neighbors=10)\n",
    "algorithm=[dtc,rf,svc,knc]"
   ]
  },
  {
   "cell_type": "code",
   "execution_count": 145,
   "metadata": {},
   "outputs": [
    {
     "name": "stdout",
     "output_type": "stream",
     "text": [
      "accuracy is 0.5463917525773195 with r state 42\n",
      "0.5463917525773195 is max accuracy against r_state 42\n",
      "0.47485592820028344\n",
      "accuracy is 0.6494845360824743 with r state 43\n",
      "0.6494845360824743 is max accuracy against r_state 43\n",
      "0.47138403401039203\n",
      "accuracy is 0.6323024054982818 with r state 44\n",
      "accuracy is 0.6048109965635738 with r state 45\n",
      "accuracy is 0.6735395189003437 with r state 46\n",
      "0.6735395189003437 is max accuracy against r_state 46\n",
      "0.4838119981105338\n",
      "accuracy is 0.6116838487972509 with r state 47\n",
      "accuracy is 0.6082474226804123 with r state 48\n",
      "accuracy is 0.5945017182130584 with r state 49\n",
      "accuracy is 0.6219931271477663 with r state 50\n",
      "accuracy is 0.6769759450171822 with r state 51\n",
      "0.6769759450171822 is max accuracy against r_state 51\n",
      "0.4720736891828059\n",
      "accuracy is 0.6426116838487973 with r state 52\n",
      "accuracy is 0.6288659793814433 with r state 53\n",
      "accuracy is 0.5979381443298969 with r state 54\n",
      "accuracy is 0.570446735395189 with r state 55\n",
      "accuracy is 0.563573883161512 with r state 56\n",
      "accuracy is 0.6323024054982818 with r state 57\n",
      "accuracy is 0.5498281786941581 with r state 58\n",
      "accuracy is 0.6185567010309279 with r state 59\n",
      "accuracy is 0.5910652920962199 with r state 60\n",
      "accuracy is 0.6151202749140894 with r state 61\n",
      "accuracy is 0.6254295532646048 with r state 62\n",
      "accuracy is 0.6391752577319587 with r state 63\n",
      "accuracy is 0.6185567010309279 with r state 64\n",
      "accuracy is 0.6116838487972509 with r state 65\n",
      "accuracy is 0.6529209621993127 with r state 66\n",
      "accuracy is 0.6048109965635738 with r state 67\n",
      "accuracy is 0.5910652920962199 with r state 68\n",
      "accuracy is 0.6529209621993127 with r state 69\n",
      "accuracy is 0.5979381443298969 with r state 70\n",
      "accuracy is 0.5807560137457045 with r state 71\n",
      "accuracy is 0.6151202749140894 with r state 72\n",
      "accuracy is 0.6494845360824743 with r state 73\n",
      "accuracy is 0.6116838487972509 with r state 74\n",
      "accuracy is 0.6494845360824743 with r state 75\n",
      "accuracy is 0.5807560137457045 with r state 76\n",
      "accuracy is 0.6254295532646048 with r state 77\n",
      "accuracy is 0.584192439862543 with r state 78\n",
      "accuracy is 0.6116838487972509 with r state 79\n",
      "accuracy is 0.6288659793814433 with r state 80\n",
      "accuracy is 0.5945017182130584 with r state 81\n",
      "accuracy is 0.5945017182130584 with r state 82\n",
      "accuracy is 0.5979381443298969 with r state 83\n",
      "accuracy is 0.6254295532646048 with r state 84\n",
      "accuracy is 0.6082474226804123 with r state 85\n",
      "accuracy is 0.6872852233676976 with r state 86\n",
      "0.6872852233676976 is max accuracy against r_state 86\n",
      "0.4686632026452527\n",
      "accuracy is 0.6288659793814433 with r state 87\n",
      "accuracy is 0.6323024054982818 with r state 88\n",
      "accuracy is 0.6048109965635738 with r state 89\n",
      "accuracy is 0.6494845360824743 with r state 90\n",
      "accuracy is 0.5910652920962199 with r state 91\n",
      "accuracy is 0.5979381443298969 with r state 92\n",
      "accuracy is 0.584192439862543 with r state 93\n",
      "accuracy is 0.6151202749140894 with r state 94\n",
      "accuracy is 0.6288659793814433 with r state 95\n",
      "accuracy is 0.6323024054982818 with r state 96\n",
      "accuracy is 0.6391752577319587 with r state 97\n",
      "accuracy is 0.6323024054982818 with r state 98\n",
      "accuracy is 0.570446735395189 with r state 99\n"
     ]
    }
   ],
   "source": [
    "max_score(dtc,x,y)\n"
   ]
  },
  {
   "cell_type": "code",
   "execution_count": 146,
   "metadata": {},
   "outputs": [
    {
     "name": "stdout",
     "output_type": "stream",
     "text": [
      "accuracy is 0.6666666666666666 with r state 42\n",
      "0.6666666666666666 is max accuracy against r_state 42\n",
      "0.5713934813415209\n",
      "accuracy is 0.718213058419244 with r state 43\n",
      "0.718213058419244 is max accuracy against r_state 43\n",
      "0.5700141709966935\n",
      "accuracy is 0.7044673539518901 with r state 44\n",
      "accuracy is 0.7079037800687286 with r state 45\n",
      "accuracy is 0.6804123711340206 with r state 46\n",
      "accuracy is 0.718213058419244 with r state 47\n",
      "accuracy is 0.6701030927835051 with r state 48\n",
      "accuracy is 0.7353951890034365 with r state 49\n",
      "0.7353951890034365 is max accuracy against r_state 49\n",
      "0.5748181388757676\n",
      "accuracy is 0.718213058419244 with r state 50\n",
      "accuracy is 0.7285223367697594 with r state 51\n",
      "accuracy is 0.6872852233676976 with r state 52\n",
      "accuracy is 0.738831615120275 with r state 53\n",
      "0.738831615120275 is max accuracy against r_state 53\n",
      "0.5768918280585734\n",
      "accuracy is 0.6907216494845361 with r state 54\n",
      "accuracy is 0.6769759450171822 with r state 55\n",
      "accuracy is 0.697594501718213 with r state 56\n",
      "accuracy is 0.697594501718213 with r state 57\n",
      "accuracy is 0.6494845360824743 with r state 58\n",
      "accuracy is 0.7216494845360825 with r state 59\n",
      "accuracy is 0.6735395189003437 with r state 60\n",
      "accuracy is 0.6769759450171822 with r state 61\n",
      "accuracy is 0.6907216494845361 with r state 62\n",
      "accuracy is 0.7010309278350515 with r state 63\n",
      "accuracy is 0.6838487972508591 with r state 64\n",
      "accuracy is 0.718213058419244 with r state 65\n",
      "accuracy is 0.7147766323024055 with r state 66\n",
      "accuracy is 0.7216494845360825 with r state 67\n",
      "accuracy is 0.7319587628865979 with r state 68\n",
      "accuracy is 0.7147766323024055 with r state 69\n",
      "accuracy is 0.6907216494845361 with r state 70\n",
      "accuracy is 0.6907216494845361 with r state 71\n",
      "accuracy is 0.7457044673539519 with r state 72\n",
      "0.7457044673539519 is max accuracy against r_state 72\n",
      "0.57\n",
      "accuracy is 0.6804123711340206 with r state 73\n",
      "accuracy is 0.6872852233676976 with r state 74\n",
      "accuracy is 0.7353951890034365 with r state 75\n",
      "accuracy is 0.6701030927835051 with r state 76\n",
      "accuracy is 0.6666666666666666 with r state 77\n",
      "accuracy is 0.6735395189003437 with r state 78\n",
      "accuracy is 0.7010309278350515 with r state 79\n",
      "accuracy is 0.7010309278350515 with r state 80\n",
      "accuracy is 0.6838487972508591 with r state 81\n",
      "accuracy is 0.6941580756013745 with r state 82\n",
      "accuracy is 0.6804123711340206 with r state 83\n",
      "accuracy is 0.6563573883161512 with r state 84\n",
      "accuracy is 0.7044673539518901 with r state 85\n",
      "accuracy is 0.6804123711340206 with r state 86\n",
      "accuracy is 0.7491408934707904 with r state 87\n",
      "0.7491408934707904 is max accuracy against r_state 87\n",
      "0.5775862068965518\n",
      "accuracy is 0.6632302405498282 with r state 88\n",
      "accuracy is 0.6701030927835051 with r state 89\n",
      "accuracy is 0.718213058419244 with r state 90\n",
      "accuracy is 0.738831615120275 with r state 91\n",
      "accuracy is 0.7079037800687286 with r state 92\n",
      "accuracy is 0.697594501718213 with r state 93\n",
      "accuracy is 0.6872852233676976 with r state 94\n",
      "accuracy is 0.7525773195876289 with r state 95\n",
      "0.7525773195876289 is max accuracy against r_state 95\n",
      "0.5734246575342465\n",
      "accuracy is 0.7147766323024055 with r state 96\n",
      "accuracy is 0.7491408934707904 with r state 97\n",
      "accuracy is 0.6838487972508591 with r state 98\n",
      "accuracy is 0.6907216494845361 with r state 99\n"
     ]
    }
   ],
   "source": [
    "max_score(rf,x,y)"
   ]
  },
  {
   "cell_type": "code",
   "execution_count": 147,
   "metadata": {},
   "outputs": [
    {
     "name": "stdout",
     "output_type": "stream",
     "text": [
      "accuracy is 0.6151202749140894 with r state 42\n",
      "0.6151202749140894 is max accuracy against r_state 42\n",
      "0.5961974492205951\n",
      "accuracy is 0.6529209621993127 with r state 43\n",
      "0.6529209621993127 is max accuracy against r_state 43\n",
      "0.5961974492205951\n",
      "accuracy is 0.6288659793814433 with r state 44\n",
      "accuracy is 0.6288659793814433 with r state 45\n",
      "accuracy is 0.6391752577319587 with r state 46\n",
      "accuracy is 0.6116838487972509 with r state 47\n",
      "accuracy is 0.6254295532646048 with r state 48\n",
      "accuracy is 0.6804123711340206 with r state 49\n",
      "0.6804123711340206 is max accuracy against r_state 49\n",
      "0.5961974492205951\n",
      "accuracy is 0.6597938144329897 with r state 50\n",
      "accuracy is 0.6426116838487973 with r state 51\n",
      "accuracy is 0.5979381443298969 with r state 52\n",
      "accuracy is 0.6391752577319587 with r state 53\n",
      "accuracy is 0.5979381443298969 with r state 54\n",
      "accuracy is 0.6048109965635738 with r state 55\n",
      "accuracy is 0.5945017182130584 with r state 56\n",
      "accuracy is 0.6563573883161512 with r state 57\n",
      "accuracy is 0.5773195876288659 with r state 58\n",
      "accuracy is 0.6426116838487973 with r state 59\n",
      "accuracy is 0.6048109965635738 with r state 60\n",
      "accuracy is 0.6151202749140894 with r state 61\n",
      "accuracy is 0.6185567010309279 with r state 62\n",
      "accuracy is 0.6494845360824743 with r state 63\n",
      "accuracy is 0.6219931271477663 with r state 64\n",
      "accuracy is 0.6701030927835051 with r state 65\n",
      "accuracy is 0.6185567010309279 with r state 66\n",
      "accuracy is 0.6563573883161512 with r state 67\n",
      "accuracy is 0.6838487972508591 with r state 68\n",
      "0.6838487972508591 is max accuracy against r_state 68\n",
      "0.5961974492205951\n",
      "accuracy is 0.6357388316151202 with r state 69\n",
      "accuracy is 0.6494845360824743 with r state 70\n",
      "accuracy is 0.6391752577319587 with r state 71\n",
      "accuracy is 0.6323024054982818 with r state 72\n",
      "accuracy is 0.6357388316151202 with r state 73\n",
      "accuracy is 0.6048109965635738 with r state 74\n",
      "accuracy is 0.6632302405498282 with r state 75\n",
      "accuracy is 0.6116838487972509 with r state 76\n",
      "accuracy is 0.6116838487972509 with r state 77\n",
      "accuracy is 0.6116838487972509 with r state 78\n",
      "accuracy is 0.6013745704467354 with r state 79\n",
      "accuracy is 0.6357388316151202 with r state 80\n",
      "accuracy is 0.6185567010309279 with r state 81\n",
      "accuracy is 0.5945017182130584 with r state 82\n",
      "accuracy is 0.6219931271477663 with r state 83\n",
      "accuracy is 0.563573883161512 with r state 84\n",
      "accuracy is 0.6907216494845361 with r state 85\n",
      "0.6907216494845361 is max accuracy against r_state 85\n",
      "0.5961974492205951\n",
      "accuracy is 0.6048109965635738 with r state 86\n",
      "accuracy is 0.6494845360824743 with r state 87\n",
      "accuracy is 0.6597938144329897 with r state 88\n",
      "accuracy is 0.6254295532646048 with r state 89\n",
      "accuracy is 0.6494845360824743 with r state 90\n",
      "accuracy is 0.6529209621993127 with r state 91\n",
      "accuracy is 0.6151202749140894 with r state 92\n",
      "accuracy is 0.6460481099656358 with r state 93\n",
      "accuracy is 0.6288659793814433 with r state 94\n",
      "accuracy is 0.6219931271477663 with r state 95\n",
      "accuracy is 0.6563573883161512 with r state 96\n",
      "accuracy is 0.6666666666666666 with r state 97\n",
      "accuracy is 0.6151202749140894 with r state 98\n",
      "accuracy is 0.6116838487972509 with r state 99\n"
     ]
    }
   ],
   "source": [
    "max_score(svc,x,y)"
   ]
  },
  {
   "cell_type": "code",
   "execution_count": 148,
   "metadata": {},
   "outputs": [
    {
     "name": "stdout",
     "output_type": "stream",
     "text": [
      "accuracy is 0.5773195876288659 with r state 42\n",
      "0.5773195876288659 is max accuracy against r_state 42\n",
      "0.5541332073689184\n",
      "accuracy is 0.6357388316151202 with r state 43\n",
      "0.6357388316151202 is max accuracy against r_state 43\n",
      "0.5541332073689184\n",
      "accuracy is 0.6185567010309279 with r state 44\n",
      "accuracy is 0.6116838487972509 with r state 45\n",
      "accuracy is 0.5910652920962199 with r state 46\n",
      "accuracy is 0.5876288659793815 with r state 47\n",
      "accuracy is 0.5807560137457045 with r state 48\n",
      "accuracy is 0.6288659793814433 with r state 49\n",
      "accuracy is 0.6288659793814433 with r state 50\n",
      "accuracy is 0.6013745704467354 with r state 51\n",
      "accuracy is 0.5979381443298969 with r state 52\n",
      "accuracy is 0.5910652920962199 with r state 53\n",
      "accuracy is 0.6013745704467354 with r state 54\n",
      "accuracy is 0.5670103092783505 with r state 55\n",
      "accuracy is 0.5773195876288659 with r state 56\n",
      "accuracy is 0.6323024054982818 with r state 57\n",
      "accuracy is 0.5910652920962199 with r state 58\n",
      "accuracy is 0.5979381443298969 with r state 59\n",
      "accuracy is 0.5670103092783505 with r state 60\n",
      "accuracy is 0.5773195876288659 with r state 61\n",
      "accuracy is 0.6426116838487973 with r state 62\n",
      "0.6426116838487973 is max accuracy against r_state 62\n",
      "0.5541332073689184\n",
      "accuracy is 0.5979381443298969 with r state 63\n",
      "accuracy is 0.563573883161512 with r state 64\n",
      "accuracy is 0.5979381443298969 with r state 65\n",
      "accuracy is 0.5738831615120275 with r state 66\n",
      "accuracy is 0.6082474226804123 with r state 67\n",
      "accuracy is 0.6426116838487973 with r state 68\n",
      "accuracy is 0.6254295532646048 with r state 69\n",
      "accuracy is 0.5601374570446735 with r state 70\n",
      "accuracy is 0.584192439862543 with r state 71\n",
      "accuracy is 0.6082474226804123 with r state 72\n",
      "accuracy is 0.6116838487972509 with r state 73\n",
      "accuracy is 0.5945017182130584 with r state 74\n",
      "accuracy is 0.6426116838487973 with r state 75\n",
      "accuracy is 0.563573883161512 with r state 76\n",
      "accuracy is 0.5326460481099656 with r state 77\n",
      "accuracy is 0.5876288659793815 with r state 78\n",
      "accuracy is 0.6151202749140894 with r state 79\n",
      "accuracy is 0.5945017182130584 with r state 80\n",
      "accuracy is 0.570446735395189 with r state 81\n",
      "accuracy is 0.5979381443298969 with r state 82\n",
      "accuracy is 0.6323024054982818 with r state 83\n",
      "accuracy is 0.5601374570446735 with r state 84\n",
      "accuracy is 0.5807560137457045 with r state 85\n",
      "accuracy is 0.5910652920962199 with r state 86\n",
      "accuracy is 0.5979381443298969 with r state 87\n",
      "accuracy is 0.6013745704467354 with r state 88\n",
      "accuracy is 0.5945017182130584 with r state 89\n",
      "accuracy is 0.6048109965635738 with r state 90\n",
      "accuracy is 0.6048109965635738 with r state 91\n",
      "accuracy is 0.6082474226804123 with r state 92\n",
      "accuracy is 0.584192439862543 with r state 93\n",
      "accuracy is 0.5532646048109966 with r state 94\n",
      "accuracy is 0.6048109965635738 with r state 95\n",
      "accuracy is 0.5979381443298969 with r state 96\n",
      "accuracy is 0.6666666666666666 with r state 97\n",
      "0.6666666666666666 is max accuracy against r_state 97\n",
      "0.5541332073689184\n",
      "accuracy is 0.5945017182130584 with r state 98\n",
      "accuracy is 0.6116838487972509 with r state 99\n"
     ]
    }
   ],
   "source": [
    "max_score(knc,x,y)"
   ]
  },
  {
   "cell_type": "code",
   "execution_count": null,
   "metadata": {},
   "outputs": [],
   "source": [
    "max_score(dtc,x1,y1)"
   ]
  },
  {
   "cell_type": "code",
   "execution_count": null,
   "metadata": {},
   "outputs": [],
   "source": [
    "max_score(rf,x1,y1)"
   ]
  },
  {
   "cell_type": "code",
   "execution_count": null,
   "metadata": {},
   "outputs": [],
   "source": [
    "max_score(svc,x1,y1)"
   ]
  },
  {
   "cell_type": "code",
   "execution_count": null,
   "metadata": {},
   "outputs": [],
   "source": [
    "max_score(knc,x1,y1)"
   ]
  },
  {
   "cell_type": "code",
   "execution_count": null,
   "metadata": {},
   "outputs": [],
   "source": [
    "from sklearn.ensemble import GradientBoostingClassifier,AdaBoostClassifier"
   ]
  },
  {
   "cell_type": "code",
   "execution_count": null,
   "metadata": {},
   "outputs": [],
   "source": [
    "gd=GradientBoostingClassifier()"
   ]
  },
  {
   "cell_type": "code",
   "execution_count": null,
   "metadata": {},
   "outputs": [],
   "source": [
    "max_score(gd,x,y)"
   ]
  },
  {
   "cell_type": "code",
   "execution_count": null,
   "metadata": {},
   "outputs": [],
   "source": [
    "ad=AdaBoostClassifier(n_estimators=100,base_estimator=dtc,algorithm='SAMME')"
   ]
  },
  {
   "cell_type": "code",
   "execution_count": null,
   "metadata": {},
   "outputs": [],
   "source": [
    "max_score(ad,x,y)"
   ]
  },
  {
   "cell_type": "code",
   "execution_count": null,
   "metadata": {},
   "outputs": [],
   "source": [
    "ad1=AdaBoostClassifier(n_estimators=100,base_estimator=rf,algorithm='SAMME')"
   ]
  },
  {
   "cell_type": "code",
   "execution_count": 149,
   "metadata": {},
   "outputs": [
    {
     "name": "stdout",
     "output_type": "stream",
     "text": [
      "accuracy is 0.6701030927835051 with r state 42\n",
      "0.6701030927835051 is max accuracy against r_state 42\n",
      "0.5741332073689183\n",
      "accuracy is 0.7044673539518901 with r state 43\n",
      "0.7044673539518901 is max accuracy against r_state 43\n",
      "0.5707038261691072\n",
      "accuracy is 0.697594501718213 with r state 44\n",
      "accuracy is 0.7010309278350515 with r state 45\n",
      "accuracy is 0.697594501718213 with r state 46\n",
      "accuracy is 0.718213058419244 with r state 47\n",
      "0.718213058419244 is max accuracy against r_state 47\n",
      "0.565186584789797\n",
      "accuracy is 0.6632302405498282 with r state 48\n",
      "accuracy is 0.738831615120275 with r state 49\n",
      "0.738831615120275 is max accuracy against r_state 49\n",
      "0.5872508266414738\n",
      "accuracy is 0.7250859106529209 with r state 50\n",
      "accuracy is 0.7216494845360825 with r state 51\n",
      "accuracy is 0.6907216494845361 with r state 52\n",
      "accuracy is 0.7250859106529209 with r state 53\n",
      "accuracy is 0.6941580756013745 with r state 54\n",
      "accuracy is 0.6632302405498282 with r state 55\n",
      "accuracy is 0.6769759450171822 with r state 56\n",
      "accuracy is 0.711340206185567 with r state 57\n",
      "accuracy is 0.6632302405498282 with r state 58\n",
      "accuracy is 0.7147766323024055 with r state 59\n",
      "accuracy is 0.6735395189003437 with r state 60\n",
      "accuracy is 0.6907216494845361 with r state 61\n",
      "accuracy is 0.6838487972508591 with r state 62\n",
      "accuracy is 0.711340206185567 with r state 63\n",
      "accuracy is 0.6838487972508591 with r state 64\n",
      "accuracy is 0.7079037800687286 with r state 65\n",
      "accuracy is 0.6941580756013745 with r state 66\n",
      "accuracy is 0.697594501718213 with r state 67\n",
      "accuracy is 0.7319587628865979 with r state 68\n",
      "accuracy is 0.7079037800687286 with r state 69\n",
      "accuracy is 0.6907216494845361 with r state 70\n",
      "accuracy is 0.6804123711340206 with r state 71\n",
      "accuracy is 0.7250859106529209 with r state 72\n",
      "accuracy is 0.6838487972508591 with r state 73\n",
      "accuracy is 0.6769759450171822 with r state 74\n",
      "accuracy is 0.7525773195876289 with r state 75\n",
      "0.7525773195876289 is max accuracy against r_state 75\n",
      "0.5879404818138876\n",
      "accuracy is 0.6872852233676976 with r state 76\n",
      "accuracy is 0.6701030927835051 with r state 77\n",
      "accuracy is 0.6804123711340206 with r state 78\n",
      "accuracy is 0.6907216494845361 with r state 79\n",
      "accuracy is 0.6872852233676976 with r state 80\n",
      "accuracy is 0.7044673539518901 with r state 81\n",
      "accuracy is 0.6769759450171822 with r state 82\n",
      "accuracy is 0.697594501718213 with r state 83\n",
      "accuracy is 0.6701030927835051 with r state 84\n",
      "accuracy is 0.7079037800687286 with r state 85\n",
      "accuracy is 0.6838487972508591 with r state 86\n",
      "accuracy is 0.718213058419244 with r state 87\n",
      "accuracy is 0.6563573883161512 with r state 88\n",
      "accuracy is 0.6735395189003437 with r state 89\n",
      "accuracy is 0.7250859106529209 with r state 90\n",
      "accuracy is 0.738831615120275 with r state 91\n",
      "accuracy is 0.7079037800687286 with r state 92\n",
      "accuracy is 0.6838487972508591 with r state 93\n",
      "accuracy is 0.7010309278350515 with r state 94\n",
      "accuracy is 0.7457044673539519 with r state 95\n",
      "accuracy is 0.7353951890034365 with r state 96\n",
      "accuracy is 0.7491408934707904 with r state 97\n",
      "accuracy is 0.7010309278350515 with r state 98\n",
      "accuracy is 0.6872852233676976 with r state 99\n"
     ]
    }
   ],
   "source": [
    "max_score(ad1,x,y)"
   ]
  },
  {
   "cell_type": "code",
   "execution_count": null,
   "metadata": {},
   "outputs": [],
   "source": [
    "ad2=AdaBoostClassifier(n_estimators=100,base_estimator=svc,algorithm='SAMME')"
   ]
  },
  {
   "cell_type": "code",
   "execution_count": null,
   "metadata": {},
   "outputs": [],
   "source": [
    "max_score(ad2,x,y)"
   ]
  },
  {
   "cell_type": "code",
   "execution_count": null,
   "metadata": {},
   "outputs": [],
   "source": [
    "ad3=AdaBoostClassifier(n_estimators=100,base_estimator=knc,algorithm='SAMME')"
   ]
  },
  {
   "cell_type": "markdown",
   "metadata": {},
   "source": [
    "Best accuracy is RF model and adaboost on rf model"
   ]
  },
  {
   "cell_type": "code",
   "execution_count": 151,
   "metadata": {},
   "outputs": [
    {
     "name": "stdout",
     "output_type": "stream",
     "text": [
      "0.7353951890034365\n",
      "[[  0   8   2   0   0]\n",
      " [  0 111  20   0   0]\n",
      " [  0  26  87   8   0]\n",
      " [  0   0   9  15   1]\n",
      " [  0   0   1   2   1]]\n",
      "              precision    recall  f1-score   support\n",
      "\n",
      "           4       0.00      0.00      0.00        10\n",
      "           5       0.77      0.85      0.80       131\n",
      "           6       0.73      0.72      0.72       121\n",
      "           7       0.60      0.60      0.60        25\n",
      "           8       0.50      0.25      0.33         4\n",
      "\n",
      "    accuracy                           0.74       291\n",
      "   macro avg       0.52      0.48      0.49       291\n",
      "weighted avg       0.71      0.74      0.72       291\n",
      "\n"
     ]
    }
   ],
   "source": [
    "xtrain,xtest,ytrain,ytest=train_test_split(x,y,random_state=75,test_size=0.20)\n",
    "ad1.fit(xtrain,ytrain)\n",
    "ypred=ad1.predict(xtest)\n",
    "accuracy=accuracy_score(ytest,ypred)\n",
    "print(accuracy_score(ytest,ypred))\n",
    "print(confusion_matrix(ytest,ypred))\n",
    "print(classification_report(ytest,ypred))"
   ]
  },
  {
   "cell_type": "code",
   "execution_count": 152,
   "metadata": {},
   "outputs": [
    {
     "name": "stdout",
     "output_type": "stream",
     "text": [
      "0.7594501718213058\n",
      "[[  0   8   2   0   0]\n",
      " [  0 105  25   0   0]\n",
      " [  0  19  94   3   0]\n",
      " [  0   0  11  21   0]\n",
      " [  0   0   1   1   1]]\n",
      "              precision    recall  f1-score   support\n",
      "\n",
      "           4       0.00      0.00      0.00        10\n",
      "           5       0.80      0.81      0.80       130\n",
      "           6       0.71      0.81      0.76       116\n",
      "           7       0.84      0.66      0.74        32\n",
      "           8       1.00      0.33      0.50         3\n",
      "\n",
      "    accuracy                           0.76       291\n",
      "   macro avg       0.67      0.52      0.56       291\n",
      "weighted avg       0.74      0.76      0.75       291\n",
      "\n"
     ]
    }
   ],
   "source": [
    "xtrain,xtest,ytrain,ytest=train_test_split(x,y,random_state=95,test_size=0.20)\n",
    "rf.fit(xtrain,ytrain)\n",
    "ypred=rf.predict(xtest)\n",
    "accuracy=accuracy_score(ytest,ypred)\n",
    "print(accuracy_score(ytest,ypred))\n",
    "print(confusion_matrix(ytest,ypred))\n",
    "print(classification_report(ytest,ypred))"
   ]
  },
  {
   "cell_type": "markdown",
   "metadata": {},
   "source": [
    "RF is the best model"
   ]
  },
  {
   "cell_type": "code",
   "execution_count": null,
   "metadata": {},
   "outputs": [],
   "source": []
  }
 ],
 "metadata": {
  "kernelspec": {
   "display_name": "Python 3",
   "language": "python",
   "name": "python3"
  },
  "language_info": {
   "codemirror_mode": {
    "name": "ipython",
    "version": 3
   },
   "file_extension": ".py",
   "mimetype": "text/x-python",
   "name": "python",
   "nbconvert_exporter": "python",
   "pygments_lexer": "ipython3",
   "version": "3.7.6"
  }
 },
 "nbformat": 4,
 "nbformat_minor": 4
}
