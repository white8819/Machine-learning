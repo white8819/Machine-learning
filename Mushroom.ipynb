{
 "cells": [
  {
   "cell_type": "code",
   "execution_count": null,
   "metadata": {},
   "outputs": [],
   "source": [
    "import pandas as pd\n",
    "import numpy as np\n",
    "import seaborn as sns\n",
    "import matplotlib.pyplot as plt\n",
    "import sklearn\n",
    "from sklearn.linear_model import LogisticRegression\n",
    "from sklearn.naive_bayes import GaussianNB\n",
    "from sklearn.tree import DecisionTreeClassifier\n",
    "from sklearn.svm import SVC\n",
    "from sklearn.neighbors import KNeighborsClassifier\n",
    "from sklearn.ensemble import RandomForestClassifier\n",
    "from sklearn.decomposition import PCA\n",
    "from sklearn.preprocessing import StandardScaler\n",
    "from sklearn.model_selection import train_test_split\n",
    "from sklearn.metrics import accuracy_score,confusion_matrix,classification_report\n",
    "from sklearn.model_selection import cross_val_score\n",
    "from sklearn.preprocessing import LabelEncoder\n",
    "from sklearn.externals import joblib\n",
    "import warnings\n",
    "warnings.filterwarnings('ignore')"
   ]
  },
  {
   "cell_type": "code",
   "execution_count": null,
   "metadata": {},
   "outputs": [],
   "source": [
    "data=pd.read_csv('C:/Users/DC/Downloads/agaricus-lepiota.csv')"
   ]
  },
  {
   "cell_type": "code",
   "execution_count": null,
   "metadata": {},
   "outputs": [],
   "source": [
    "data"
   ]
  },
  {
   "cell_type": "code",
   "execution_count": null,
   "metadata": {},
   "outputs": [],
   "source": [
    "df=pd.DataFrame(data)"
   ]
  },
  {
   "cell_type": "code",
   "execution_count": null,
   "metadata": {},
   "outputs": [],
   "source": [
    "df.shape"
   ]
  },
  {
   "cell_type": "code",
   "execution_count": null,
   "metadata": {},
   "outputs": [],
   "source": [
    "le=LabelEncoder()\n",
    "for i in df.columns:\n",
    "    df[i]=le.fit_transform(df[i].astype(str))\n",
    "    "
   ]
  },
  {
   "cell_type": "code",
   "execution_count": null,
   "metadata": {},
   "outputs": [],
   "source": [
    "df"
   ]
  },
  {
   "cell_type": "code",
   "execution_count": null,
   "metadata": {},
   "outputs": [],
   "source": [
    "df.isnull().sum()"
   ]
  },
  {
   "cell_type": "code",
   "execution_count": null,
   "metadata": {},
   "outputs": [],
   "source": [
    "for i in df.columns:\n",
    "    plt.figure()\n",
    "    plt.hist(df[i])"
   ]
  },
  {
   "cell_type": "code",
   "execution_count": null,
   "metadata": {},
   "outputs": [],
   "source": [
    "for i in df.columns:\n",
    "    plt.figure()\n",
    "    sns.barplot('class',i,data=df)"
   ]
  },
  {
   "cell_type": "code",
   "execution_count": null,
   "metadata": {},
   "outputs": [],
   "source": [
    "df.dtypes"
   ]
  },
  {
   "cell_type": "code",
   "execution_count": null,
   "metadata": {},
   "outputs": [],
   "source": [
    "df.describe()"
   ]
  },
  {
   "cell_type": "code",
   "execution_count": null,
   "metadata": {},
   "outputs": [],
   "source": [
    "from scipy.stats import zscore\n",
    "threhold=3\n",
    "z=np.abs(zscore(df))\n",
    "z"
   ]
  },
  {
   "cell_type": "code",
   "execution_count": null,
   "metadata": {},
   "outputs": [],
   "source": [
    "print(np.where(z>3))"
   ]
  },
  {
   "cell_type": "code",
   "execution_count": null,
   "metadata": {},
   "outputs": [],
   "source": [
    "df"
   ]
  },
  {
   "cell_type": "code",
   "execution_count": null,
   "metadata": {},
   "outputs": [],
   "source": [
    "df.skew()"
   ]
  },
  {
   "cell_type": "code",
   "execution_count": null,
   "metadata": {},
   "outputs": [],
   "source": [
    "plt.figure(figsize=(15,20))\n",
    "sns.heatmap(df.corr(),annot=True)"
   ]
  },
  {
   "cell_type": "code",
   "execution_count": null,
   "metadata": {},
   "outputs": [],
   "source": [
    "df.corr()"
   ]
  },
  {
   "cell_type": "code",
   "execution_count": null,
   "metadata": {},
   "outputs": [],
   "source": [
    "df"
   ]
  },
  {
   "cell_type": "code",
   "execution_count": null,
   "metadata": {},
   "outputs": [],
   "source": [
    "data"
   ]
  },
  {
   "cell_type": "code",
   "execution_count": null,
   "metadata": {},
   "outputs": [],
   "source": [
    "sns.distplot(df['veil-type'])"
   ]
  },
  {
   "cell_type": "code",
   "execution_count": null,
   "metadata": {},
   "outputs": [],
   "source": [
    "df=df.drop(['veil-type'],axis=1)"
   ]
  },
  {
   "cell_type": "code",
   "execution_count": null,
   "metadata": {},
   "outputs": [],
   "source": [
    "df"
   ]
  },
  {
   "cell_type": "code",
   "execution_count": null,
   "metadata": {},
   "outputs": [],
   "source": [
    "df.shape"
   ]
  },
  {
   "cell_type": "code",
   "execution_count": null,
   "metadata": {},
   "outputs": [],
   "source": [
    "x=df.iloc[:,1:23]\n",
    "y=df.iloc[:,0]"
   ]
  },
  {
   "cell_type": "code",
   "execution_count": null,
   "metadata": {},
   "outputs": [],
   "source": [
    "x.shape"
   ]
  },
  {
   "cell_type": "code",
   "execution_count": null,
   "metadata": {},
   "outputs": [],
   "source": [
    "y.shape\n"
   ]
  },
  {
   "cell_type": "code",
   "execution_count": null,
   "metadata": {},
   "outputs": [],
   "source": [
    "y=y.values.reshape(-1,1)"
   ]
  },
  {
   "cell_type": "code",
   "execution_count": null,
   "metadata": {},
   "outputs": [],
   "source": [
    "def max_score(model):\n",
    "    max_score=0\n",
    "    for r_state in range(42,100):\n",
    "        xtrain,xtest,ytrain,ytest=train_test_split(x,y,random_state=r_state,test_size=0.20)\n",
    "        model.fit(xtrain,ytrain)\n",
    "        ypred=model.predict(xtest)\n",
    "        accuracy=accuracy_score(ytest,ypred)\n",
    "        print('accuracy is',accuracy,'with r state',r_state)\n",
    "        if accuracy>max_score:\n",
    "            max_score=accuracy\n",
    "            final_r_state=r_state\n",
    "            print(max_score,'is max accuracy against r_state',r_state)\n",
    "            print(cross_val_score(model,x,y,cv=10,scoring='accuracy').mean())"
   ]
  },
  {
   "cell_type": "code",
   "execution_count": null,
   "metadata": {},
   "outputs": [],
   "source": [
    "from sklearn.model_selection import GridSearchCV"
   ]
  },
  {
   "cell_type": "code",
   "execution_count": null,
   "metadata": {},
   "outputs": [],
   "source": [
    "algo=KNeighborsClassifier()\n",
    "para={'n_neighbors':[3,4,5,6,7,8,9,10]}\n",
    "grid=GridSearchCV(estimator=algo,param_grid=para)\n",
    "grid.fit(x,y)\n",
    "\n",
    "print(grid.best_params_)"
   ]
  },
  {
   "cell_type": "code",
   "execution_count": null,
   "metadata": {},
   "outputs": [],
   "source": [
    "algo=SVC()\n",
    "para={'kernel':['rbf','poly','linear'],'C':[1,10]}\n",
    "grid=GridSearchCV(estimator=algo,param_grid=para)\n",
    "grid.fit(x,y)\n",
    "\n",
    "print(grid.best_params_)"
   ]
  },
  {
   "cell_type": "code",
   "execution_count": null,
   "metadata": {},
   "outputs": [],
   "source": [
    "algo=DecisionTreeClassifier()\n",
    "para={'criterion':['gini','entropy']}\n",
    "grid=GridSearchCV(estimator=algo,param_grid=para)\n",
    "grid.fit(x,y)\n",
    "\n",
    "print(grid.best_params_)"
   ]
  },
  {
   "cell_type": "code",
   "execution_count": null,
   "metadata": {},
   "outputs": [],
   "source": [
    "algo=RandomForestClassifier()\n",
    "para={'n_estimators':[50,100,150,200,500,1000],}\n",
    "grid=GridSearchCV(estimator=algo,param_grid=para)\n",
    "grid.fit(x,y)\n",
    "\n",
    "print(grid.best_params_)"
   ]
  },
  {
   "cell_type": "code",
   "execution_count": null,
   "metadata": {},
   "outputs": [],
   "source": [
    "lr=LogisticRegression()\n",
    "dtc=DecisionTreeClassifier(criterion='gini')\n",
    "rf=RandomForestClassifier(n_estimators=1000)\n",
    "svc=SVC(kernel='linear',C=10)\n",
    "knc=KNeighborsClassifier(n_neighbors=3)\n",
    "algorithm=[lr,dtc,rf,svc,knc]"
   ]
  },
  {
   "cell_type": "code",
   "execution_count": 129,
   "metadata": {},
   "outputs": [
    {
     "name": "stdout",
     "output_type": "stream",
     "text": [
      "accuracy is 0.947076923076923 with r state 42\n",
      "0.947076923076923 is max accuracy against r_state 42\n",
      "0.8798658195941564\n",
      "accuracy is 0.9489230769230769 with r state 43\n",
      "0.9489230769230769 is max accuracy against r_state 43\n",
      "0.8798658195941564\n",
      "accuracy is 0.9593846153846154 with r state 44\n",
      "0.9593846153846154 is max accuracy against r_state 44\n",
      "0.8798658195941564\n",
      "accuracy is 0.9513846153846154 with r state 45\n",
      "accuracy is 0.952 with r state 46\n",
      "accuracy is 0.944 with r state 47\n",
      "accuracy is 0.9513846153846154 with r state 48\n",
      "accuracy is 0.9452307692307692 with r state 49\n",
      "accuracy is 0.939076923076923 with r state 50\n",
      "accuracy is 0.947076923076923 with r state 51\n",
      "accuracy is 0.9433846153846154 with r state 52\n",
      "accuracy is 0.9507692307692308 with r state 53\n",
      "accuracy is 0.952 with r state 54\n",
      "accuracy is 0.9538461538461539 with r state 55\n",
      "accuracy is 0.9464615384615385 with r state 56\n",
      "accuracy is 0.9452307692307692 with r state 57\n",
      "accuracy is 0.9538461538461539 with r state 58\n",
      "accuracy is 0.947076923076923 with r state 59\n",
      "accuracy is 0.9513846153846154 with r state 60\n",
      "accuracy is 0.9501538461538461 with r state 61\n",
      "accuracy is 0.955076923076923 with r state 62\n",
      "accuracy is 0.947076923076923 with r state 63\n",
      "accuracy is 0.9464615384615385 with r state 64\n",
      "accuracy is 0.955076923076923 with r state 65\n",
      "accuracy is 0.944 with r state 66\n",
      "accuracy is 0.9396923076923077 with r state 67\n",
      "accuracy is 0.9501538461538461 with r state 68\n",
      "accuracy is 0.9476923076923077 with r state 69\n",
      "accuracy is 0.9464615384615385 with r state 70\n",
      "accuracy is 0.9476923076923077 with r state 71\n",
      "accuracy is 0.9446153846153846 with r state 72\n",
      "accuracy is 0.9513846153846154 with r state 73\n",
      "accuracy is 0.9563076923076923 with r state 74\n",
      "accuracy is 0.9427692307692308 with r state 75\n",
      "accuracy is 0.9513846153846154 with r state 76\n",
      "accuracy is 0.9544615384615385 with r state 77\n",
      "accuracy is 0.944 with r state 78\n",
      "accuracy is 0.9501538461538461 with r state 79\n",
      "accuracy is 0.9489230769230769 with r state 80\n",
      "accuracy is 0.9556923076923077 with r state 81\n",
      "accuracy is 0.9556923076923077 with r state 82\n",
      "accuracy is 0.944 with r state 83\n",
      "accuracy is 0.9563076923076923 with r state 84\n",
      "accuracy is 0.9464615384615385 with r state 85\n",
      "accuracy is 0.9464615384615385 with r state 86\n",
      "accuracy is 0.9532307692307692 with r state 87\n",
      "accuracy is 0.9612307692307692 with r state 88\n",
      "0.9612307692307692 is max accuracy against r_state 88\n",
      "0.8798658195941564\n",
      "accuracy is 0.952 with r state 89\n",
      "accuracy is 0.9544615384615385 with r state 90\n",
      "accuracy is 0.9501538461538461 with r state 91\n",
      "accuracy is 0.9489230769230769 with r state 92\n",
      "accuracy is 0.9538461538461539 with r state 93\n",
      "accuracy is 0.9556923076923077 with r state 94\n",
      "accuracy is 0.9575384615384616 with r state 95\n",
      "accuracy is 0.9606153846153846 with r state 96\n",
      "accuracy is 0.952 with r state 97\n",
      "accuracy is 0.9513846153846154 with r state 98\n",
      "accuracy is 0.9563076923076923 with r state 99\n"
     ]
    }
   ],
   "source": [
    "max_score(lr)\n",
    "    \n",
    "    "
   ]
  },
  {
   "cell_type": "code",
   "execution_count": 130,
   "metadata": {},
   "outputs": [],
   "source": [
    "xtrain,xtest,ytrain,ytest=train_test_split(x,y,random_state=88,test_size=0.20)"
   ]
  },
  {
   "cell_type": "code",
   "execution_count": 131,
   "metadata": {},
   "outputs": [
    {
     "name": "stdout",
     "output_type": "stream",
     "text": [
      "0.9612307692307692\n",
      "[[806  27]\n",
      " [ 36 756]]\n",
      "              precision    recall  f1-score   support\n",
      "\n",
      "           0       0.96      0.97      0.96       833\n",
      "           1       0.97      0.95      0.96       792\n",
      "\n",
      "    accuracy                           0.96      1625\n",
      "   macro avg       0.96      0.96      0.96      1625\n",
      "weighted avg       0.96      0.96      0.96      1625\n",
      "\n",
      "1.0\n",
      "[[833   0]\n",
      " [  0 792]]\n",
      "              precision    recall  f1-score   support\n",
      "\n",
      "           0       1.00      1.00      1.00       833\n",
      "           1       1.00      1.00      1.00       792\n",
      "\n",
      "    accuracy                           1.00      1625\n",
      "   macro avg       1.00      1.00      1.00      1625\n",
      "weighted avg       1.00      1.00      1.00      1625\n",
      "\n",
      "1.0\n",
      "[[833   0]\n",
      " [  0 792]]\n",
      "              precision    recall  f1-score   support\n",
      "\n",
      "           0       1.00      1.00      1.00       833\n",
      "           1       1.00      1.00      1.00       792\n",
      "\n",
      "    accuracy                           1.00      1625\n",
      "   macro avg       1.00      1.00      1.00      1625\n",
      "weighted avg       1.00      1.00      1.00      1625\n",
      "\n",
      "0.9870769230769231\n",
      "[[815  18]\n",
      " [  3 789]]\n",
      "              precision    recall  f1-score   support\n",
      "\n",
      "           0       1.00      0.98      0.99       833\n",
      "           1       0.98      1.00      0.99       792\n",
      "\n",
      "    accuracy                           0.99      1625\n",
      "   macro avg       0.99      0.99      0.99      1625\n",
      "weighted avg       0.99      0.99      0.99      1625\n",
      "\n",
      "0.9993846153846154\n",
      "[[833   0]\n",
      " [  1 791]]\n",
      "              precision    recall  f1-score   support\n",
      "\n",
      "           0       1.00      1.00      1.00       833\n",
      "           1       1.00      1.00      1.00       792\n",
      "\n",
      "    accuracy                           1.00      1625\n",
      "   macro avg       1.00      1.00      1.00      1625\n",
      "weighted avg       1.00      1.00      1.00      1625\n",
      "\n"
     ]
    }
   ],
   "source": [
    "for i in algorithm:\n",
    "    i.fit(xtrain,ytrain)\n",
    "    ypred=i.predict(xtest)\n",
    "    accuracy=accuracy_score(ytest,ypred)\n",
    "    print(accuracy_score(ytest,ypred))\n",
    "    print(confusion_matrix(ytest,ypred))\n",
    "    print(classification_report(ytest,ypred))"
   ]
  },
  {
   "cell_type": "markdown",
   "metadata": {},
   "source": [
    "dtc and rf has the highest accuracy"
   ]
  },
  {
   "cell_type": "code",
   "execution_count": null,
   "metadata": {},
   "outputs": [],
   "source": []
  }
 ],
 "metadata": {
  "kernelspec": {
   "display_name": "Python 3",
   "language": "python",
   "name": "python3"
  },
  "language_info": {
   "codemirror_mode": {
    "name": "ipython",
    "version": 3
   },
   "file_extension": ".py",
   "mimetype": "text/x-python",
   "name": "python",
   "nbconvert_exporter": "python",
   "pygments_lexer": "ipython3",
   "version": "3.7.6"
  }
 },
 "nbformat": 4,
 "nbformat_minor": 4
}
